{
  "nbformat": 4,
  "nbformat_minor": 0,
  "metadata": {
    "colab": {
      "provenance": [],
      "authorship_tag": "ABX9TyMAm1RrXoWw6GGSMIxw6Szt",
      "include_colab_link": true
    },
    "kernelspec": {
      "name": "python3",
      "display_name": "Python 3"
    },
    "language_info": {
      "name": "python"
    }
  },
  "cells": [
    {
      "cell_type": "markdown",
      "metadata": {
        "id": "view-in-github",
        "colab_type": "text"
      },
      "source": [
        "<a href=\"https://colab.research.google.com/github/chang-ho-jeon/stock_data_anaysis/blob/main/%EC%82%BC%EC%84%B1%EC%A0%84%EC%9E%90%EB%89%B4%EC%8A%A4_%EC%8A%A4%ED%81%AC%EB%9E%98%ED%95%91.ipynb\" target=\"_parent\"><img src=\"https://colab.research.google.com/assets/colab-badge.svg\" alt=\"Open In Colab\"/></a>"
      ]
    },
    {
      "cell_type": "code",
      "execution_count": 1,
      "metadata": {
        "colab": {
          "base_uri": "https://localhost:8080/"
        },
        "id": "Y1unHu2lT8lB",
        "outputId": "746baa53-f8e9-474a-948f-80cd14455758"
      },
      "outputs": [
        {
          "output_type": "stream",
          "name": "stdout",
          "text": [
            "Requirement already satisfied: requests in /usr/local/lib/python3.10/dist-packages (2.32.3)\n",
            "Requirement already satisfied: beautifulsoup4 in /usr/local/lib/python3.10/dist-packages (4.12.3)\n",
            "Requirement already satisfied: charset-normalizer<4,>=2 in /usr/local/lib/python3.10/dist-packages (from requests) (3.4.0)\n",
            "Requirement already satisfied: idna<4,>=2.5 in /usr/local/lib/python3.10/dist-packages (from requests) (3.10)\n",
            "Requirement already satisfied: urllib3<3,>=1.21.1 in /usr/local/lib/python3.10/dist-packages (from requests) (2.2.3)\n",
            "Requirement already satisfied: certifi>=2017.4.17 in /usr/local/lib/python3.10/dist-packages (from requests) (2024.8.30)\n",
            "Requirement already satisfied: soupsieve>1.2 in /usr/local/lib/python3.10/dist-packages (from beautifulsoup4) (2.6)\n"
          ]
        }
      ],
      "source": [
        "!pip install requests beautifulsoup4\n"
      ]
    },
    {
      "cell_type": "code",
      "source": [
        "import requests\n",
        "from bs4 import BeautifulSoup\n",
        "\n",
        "def scrape_naver_news(query):\n",
        "    print(\"네이버 뉴스 결과:\")\n",
        "    naver_search_url = f\"https://search.naver.com/search.naver?where=news&query={query}\"\n",
        "    response = requests.get(naver_search_url)\n",
        "\n",
        "    if response.status_code == 200:\n",
        "        soup = BeautifulSoup(response.text, 'html.parser')\n",
        "        articles = soup.find_all('a', class_='news_tit')\n",
        "\n",
        "        for article in articles:\n",
        "            title = article.get_text()\n",
        "            url = article['href']\n",
        "            print(f\"제목: {title}\\nURL: {url}\\n\")\n",
        "    else:\n",
        "        print(\"네이버 뉴스 검색 요청 실패!\")\n",
        "\n",
        "\n",
        "\n",
        "# 메인 함수\n",
        "if __name__ == \"__main__\":\n",
        "    query = \"삼성전자\"\n",
        "    scrape_naver_news(query)\n",
        "\n",
        "\n",
        "\n",
        "\n"
      ],
      "metadata": {
        "colab": {
          "base_uri": "https://localhost:8080/"
        },
        "id": "etku0x4cUCC6",
        "outputId": "2794876c-34d3-467b-f95c-b30f9845f30d"
      },
      "execution_count": 4,
      "outputs": [
        {
          "output_type": "stream",
          "name": "stdout",
          "text": [
            "네이버 뉴스 결과:\n",
            "제목: 삼성전자, 4%대 하락 마감…나흘 연속 52주 신저가(종합)\n",
            "URL: https://www.newsis.com/view/NISX20241024_0002932954\n",
            "\n",
            "제목: 삼성전자, 파리 영화관 '파테 팰리스'에 시네마 LED 오닉스 설치\n",
            "URL: https://www.yna.co.kr/view/AKR20241024029200003?input=1195m\n",
            "\n",
            "제목: 삼성 시네마 LED ‘오닉스’ 파리 극장에 설치\n",
            "URL: https://biz.newdaily.co.kr/site/data/html/2024/10/24/2024102400014.html\n",
            "\n",
            "제목: 외국인 32거래일째 삼성전자 순매도…4년9개월만 최저 [투자360]\n",
            "URL: https://news.heraldcorp.com/view.php?ud=20241024050617\n",
            "\n",
            "제목: [속보]SK하이닉스 3분기 영업익 7조...반도체이익 삼성전자 넘어\n",
            "URL: https://www.mk.co.kr/article/11148813\n",
            "\n",
            "제목: SK하이닉스, 'HBM' 덕에 삼성전자 추월 유력…3Q 매출·영업익 사상 최대\n",
            "URL: http://news.tf.co.kr/read/economy/2144481.htm\n",
            "\n",
            "제목: 삼성전자 5만 6천원대...이재용, 반등 전략 내놓을까\n",
            "URL: http://mbn.mk.co.kr/pages/news/newsView.php?category=mbn00003&news_seq_no=5066640\n",
            "\n",
            "제목: 5만7000원도 깨졌다…삼성전자, 4.23% 급락[특징주]\n",
            "URL: http://www.edaily.co.kr/news/newspath.asp?newsid=03962246639056200\n",
            "\n",
            "제목: 삼성전자, 갤럭시 AI 지원 언어 기존 16개서 '20개'로 확대\n",
            "URL: https://zdnet.co.kr/view/?no=20241024083549\n",
            "\n",
            "제목: 삼성전자, 5만 7000원도 붕괴… 1년 10개월 전 주가 회귀\n",
            "URL: https://www.seoul.co.kr/news/economy/2024/10/24/20241024500150?wlog_tag3=naver\n",
            "\n",
            "다음 뉴스 결과:\n"
          ]
        }
      ]
    }
  ]
}