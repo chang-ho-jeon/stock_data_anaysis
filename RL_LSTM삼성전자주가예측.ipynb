{
  "nbformat": 4,
  "nbformat_minor": 0,
  "metadata": {
    "colab": {
      "provenance": [],
      "authorship_tag": "ABX9TyNtZGpZBBfeSyGkl/D4ojw5",
      "include_colab_link": true
    },
    "kernelspec": {
      "name": "python3",
      "display_name": "Python 3"
    },
    "language_info": {
      "name": "python"
    }
  },
  "cells": [
    {
      "cell_type": "markdown",
      "metadata": {
        "id": "view-in-github",
        "colab_type": "text"
      },
      "source": [
        "<a href=\"https://colab.research.google.com/github/chang-ho-jeon/stock_data_anaysis/blob/main/RL_LSTM%EC%82%BC%EC%84%B1%EC%A0%84%EC%9E%90%EC%A3%BC%EA%B0%80%EC%98%88%EC%B8%A1.ipynb\" target=\"_parent\"><img src=\"https://colab.research.google.com/assets/colab-badge.svg\" alt=\"Open In Colab\"/></a>"
      ]
    },
    {
      "cell_type": "code",
      "execution_count": 1,
      "metadata": {
        "colab": {
          "base_uri": "https://localhost:8080/"
        },
        "id": "Cwt6A4vdW3io",
        "outputId": "cb4bbcff-b968-4f9a-83fb-3df138a7ec4c"
      },
      "outputs": [
        {
          "output_type": "stream",
          "name": "stderr",
          "text": [
            "\r[*********************100%***********************]  1 of 1 completed\n",
            "<ipython-input-1-0674a8c2246c>:32: UserWarning: Creating a tensor from a list of numpy.ndarrays is extremely slow. Please consider converting the list to a single numpy.ndarray with numpy.array() before converting to a tensor. (Triggered internally at ../torch/csrc/utils/tensor_new.cpp:278.)\n",
            "  train_data = torch.FloatTensor(train_data)\n"
          ]
        },
        {
          "output_type": "stream",
          "name": "stdout",
          "text": [
            "epoch:   0 loss: 0.00679507\n",
            "epoch:  10 loss: 0.00587226\n",
            "epoch:  20 loss: 0.00859243\n",
            "epoch:  30 loss: 0.01325341\n",
            "epoch:  40 loss: 0.01108073\n",
            "epoch:  50 loss: 0.00943975\n",
            "epoch:  60 loss: 0.00882545\n",
            "epoch:  70 loss: 0.01364411\n",
            "epoch:  80 loss: 0.00373788\n",
            "epoch:  90 loss: 0.00453738\n",
            "예측된 내일 종가: 57486.31 원\n"
          ]
        }
      ],
      "source": [
        "import yfinance as yf\n",
        "import pandas as pd\n",
        "import numpy as np\n",
        "import torch\n",
        "import torch.nn as nn\n",
        "import torch.optim as optim\n",
        "import gym\n",
        "from sklearn.preprocessing import MinMaxScaler\n",
        "\n",
        "# 파라미터 설정\n",
        "symbol = \"005930.KS\"  # 삼성전자 티커\n",
        "start_date = \"2024-01-01\"\n",
        "end_date = \"2024-10-29\"\n",
        "\n",
        "# 데이터 다운로드\n",
        "data = yf.download(symbol, start=start_date, end=end_date)\n",
        "data = data[['Close']]  # 종가 데이터만 사용\n",
        "\n",
        "# 데이터 전처리\n",
        "scaler = MinMaxScaler(feature_range=(-1, 1))\n",
        "data['Close'] = scaler.fit_transform(data['Close'].values.reshape(-1, 1))\n",
        "\n",
        "# 학습 데이터 준비\n",
        "window_size = 60  # LSTM 입력으로 사용할 시퀀스 길이\n",
        "train_data = []\n",
        "target_data = []\n",
        "\n",
        "for i in range(len(data) - window_size):\n",
        "    train_data.append(data['Close'].values[i:i + window_size])\n",
        "    target_data.append(data['Close'].values[i + window_size])\n",
        "\n",
        "train_data = torch.FloatTensor(train_data)\n",
        "target_data = torch.FloatTensor(target_data)\n",
        "\n",
        "# LSTM 모델 정의\n",
        "class RL_LSTM(nn.Module):\n",
        "    def __init__(self, input_size=1, hidden_layer_size=50, output_size=1):\n",
        "        super(RL_LSTM, self).__init__()\n",
        "        self.hidden_layer_size = hidden_layer_size\n",
        "        self.lstm = nn.LSTM(input_size, hidden_layer_size)\n",
        "        self.linear = nn.Linear(hidden_layer_size, output_size)\n",
        "        self.hidden_cell = (torch.zeros(1,1,self.hidden_layer_size),\n",
        "                            torch.zeros(1,1,self.hidden_layer_size))\n",
        "\n",
        "    def forward(self, input_seq):\n",
        "        lstm_out, self.hidden_cell = self.lstm(input_seq.view(len(input_seq), 1, -1), self.hidden_cell)\n",
        "        predictions = self.linear(lstm_out.view(len(input_seq), -1))\n",
        "        return predictions[-1]\n",
        "\n",
        "# 모델 초기화\n",
        "model = RL_LSTM()\n",
        "loss_function = nn.MSELoss()\n",
        "optimizer = torch.optim.Adam(model.parameters(), lr=0.001)\n",
        "\n",
        "# 모델 학습\n",
        "epochs = 100\n",
        "for i in range(epochs):\n",
        "    for seq, labels in zip(train_data, target_data):\n",
        "        optimizer.zero_grad()\n",
        "        model.hidden_cell = (torch.zeros(1, 1, model.hidden_layer_size),\n",
        "                        torch.zeros(1, 1, model.hidden_layer_size))\n",
        "\n",
        "        y_pred = model(seq)\n",
        "        single_loss = loss_function(y_pred, labels)\n",
        "        single_loss.backward()\n",
        "        optimizer.step()\n",
        "\n",
        "    if i % 10 == 0:\n",
        "        print(f'epoch: {i:3} loss: {single_loss.item():10.8f}')\n",
        "\n",
        "# 예측 수행\n",
        "model.eval()\n",
        "with torch.no_grad():\n",
        "    test_inputs = data['Close'].values[-window_size:].tolist()\n",
        "    for _ in range(1):  # 다음 날 예측\n",
        "        seq = torch.FloatTensor(test_inputs[-window_size:])\n",
        "        with torch.no_grad():\n",
        "            model.hidden_cell = (torch.zeros(1, 1, model.hidden_layer_size),\n",
        "                                 torch.zeros(1, 1, model.hidden_layer_size))\n",
        "            test_inputs.append(model(seq).item())\n",
        "\n",
        "# 예측 값 변환\n",
        "predicted_price = scaler.inverse_transform(np.array(test_inputs[-1]).reshape(-1, 1))\n",
        "print(f'예측된 내일 종가: {predicted_price[0][0]:.2f} 원')\n"
      ]
    }
  ]
}