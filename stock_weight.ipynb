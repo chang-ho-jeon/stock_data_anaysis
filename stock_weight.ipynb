{
  "nbformat": 4,
  "nbformat_minor": 0,
  "metadata": {
    "colab": {
      "provenance": [],
      "authorship_tag": "ABX9TyNh39Z6EypFYYE7CItNB7wP",
      "include_colab_link": true
    },
    "kernelspec": {
      "name": "python3",
      "display_name": "Python 3"
    },
    "language_info": {
      "name": "python"
    }
  },
  "cells": [
    {
      "cell_type": "markdown",
      "metadata": {
        "id": "view-in-github",
        "colab_type": "text"
      },
      "source": [
        "<a href=\"https://colab.research.google.com/github/chang-ho-jeon/stock_data_anaysis/blob/main/stock_weight.ipynb\" target=\"_parent\"><img src=\"https://colab.research.google.com/assets/colab-badge.svg\" alt=\"Open In Colab\"/></a>"
      ]
    },
    {
      "cell_type": "code",
      "execution_count": 1,
      "metadata": {
        "colab": {
          "base_uri": "https://localhost:8080/"
        },
        "id": "qq1bw-x7LIuQ",
        "outputId": "8c5bb39a-cff8-4409-ad8e-738400e9ada8"
      },
      "outputs": [
        {
          "output_type": "stream",
          "name": "stdout",
          "text": [
            "Requirement already satisfied: yfinance in /usr/local/lib/python3.10/dist-packages (0.2.44)\n",
            "Requirement already satisfied: pandas in /usr/local/lib/python3.10/dist-packages (2.2.2)\n",
            "Requirement already satisfied: numpy>=1.16.5 in /usr/local/lib/python3.10/dist-packages (from yfinance) (1.26.4)\n",
            "Requirement already satisfied: requests>=2.31 in /usr/local/lib/python3.10/dist-packages (from yfinance) (2.32.3)\n",
            "Requirement already satisfied: multitasking>=0.0.7 in /usr/local/lib/python3.10/dist-packages (from yfinance) (0.0.11)\n",
            "Requirement already satisfied: lxml>=4.9.1 in /usr/local/lib/python3.10/dist-packages (from yfinance) (4.9.4)\n",
            "Requirement already satisfied: platformdirs>=2.0.0 in /usr/local/lib/python3.10/dist-packages (from yfinance) (4.3.6)\n",
            "Requirement already satisfied: pytz>=2022.5 in /usr/local/lib/python3.10/dist-packages (from yfinance) (2024.2)\n",
            "Requirement already satisfied: frozendict>=2.3.4 in /usr/local/lib/python3.10/dist-packages (from yfinance) (2.4.6)\n",
            "Requirement already satisfied: peewee>=3.16.2 in /usr/local/lib/python3.10/dist-packages (from yfinance) (3.17.7)\n",
            "Requirement already satisfied: beautifulsoup4>=4.11.1 in /usr/local/lib/python3.10/dist-packages (from yfinance) (4.12.3)\n",
            "Requirement already satisfied: html5lib>=1.1 in /usr/local/lib/python3.10/dist-packages (from yfinance) (1.1)\n",
            "Requirement already satisfied: python-dateutil>=2.8.2 in /usr/local/lib/python3.10/dist-packages (from pandas) (2.8.2)\n",
            "Requirement already satisfied: tzdata>=2022.7 in /usr/local/lib/python3.10/dist-packages (from pandas) (2024.2)\n",
            "Requirement already satisfied: soupsieve>1.2 in /usr/local/lib/python3.10/dist-packages (from beautifulsoup4>=4.11.1->yfinance) (2.6)\n",
            "Requirement already satisfied: six>=1.9 in /usr/local/lib/python3.10/dist-packages (from html5lib>=1.1->yfinance) (1.16.0)\n",
            "Requirement already satisfied: webencodings in /usr/local/lib/python3.10/dist-packages (from html5lib>=1.1->yfinance) (0.5.1)\n",
            "Requirement already satisfied: charset-normalizer<4,>=2 in /usr/local/lib/python3.10/dist-packages (from requests>=2.31->yfinance) (3.4.0)\n",
            "Requirement already satisfied: idna<4,>=2.5 in /usr/local/lib/python3.10/dist-packages (from requests>=2.31->yfinance) (3.10)\n",
            "Requirement already satisfied: urllib3<3,>=1.21.1 in /usr/local/lib/python3.10/dist-packages (from requests>=2.31->yfinance) (2.2.3)\n",
            "Requirement already satisfied: certifi>=2017.4.17 in /usr/local/lib/python3.10/dist-packages (from requests>=2.31->yfinance) (2024.8.30)\n"
          ]
        }
      ],
      "source": [
        "!pip install yfinance pandas\n"
      ]
    },
    {
      "cell_type": "code",
      "source": [
        "import yfinance as yf\n",
        "import pandas as pd\n",
        "\n",
        "# OHLCV 데이터를 받아오는 함수\n",
        "def get_stock_data(ticker):\n",
        "    stock = yf.Ticker(ticker)\n",
        "    # 최근 6개월 데이터를 받아옵니다. 기간은 필요에 맞게 조절 가능\n",
        "    df = stock.history(period='6mo')\n",
        "\n",
        "    # 주가 변동율 (고가 - 저가) / 종가 * 100\n",
        "    df['Price_Change'] = (df['High'] - df['Low']) / df['Close'] * 100\n",
        "\n",
        "    # Weight (거래량 / 주가변동율)\n",
        "    df['Weight'] = df['Volume'] / df['Price_Change']\n",
        "\n",
        "    # 거래량 변화 (오늘 거래량 - 전일 거래량)\n",
        "    df['Volume_Change'] = df['Volume'].diff()\n",
        "\n",
        "    # Demand 계산 (수요 및 공급 변화)\n",
        "    def demand(row):\n",
        "        if row['Close'] > row['Open'] and row['Volume_Change'] > 0:\n",
        "            return '수요증가중'\n",
        "        elif row['Close'] > row['Open'] and row['Volume_Change'] < 0:\n",
        "            return '수요감소중'\n",
        "        elif row['Close'] < row['Open'] and row['Volume_Change'] > 0:\n",
        "            return '공급증가중'\n",
        "        else:\n",
        "            return '공급감소중'\n",
        "\n",
        "    df['Demand'] = df.apply(demand, axis=1)\n",
        "\n",
        "    # Strength 계산 (강세/약세)\n",
        "    def strength(row):\n",
        "        if row['Close'] > row['Open']:\n",
        "            return '강세'\n",
        "        else:\n",
        "            return '약세'\n",
        "\n",
        "    df['Strength'] = df.apply(strength, axis=1)\n",
        "\n",
        "    return df[['Open', 'High', 'Low', 'Close', 'Volume', 'Price_Change', 'Weight', 'Volume_Change', 'Demand', 'Strength']]\n",
        "\n",
        "# 사용자로부터 티커 입력 받기\n",
        "ticker = input(\"주식 티커를 입력하세요: \")\n",
        "df = get_stock_data(ticker)\n",
        "print(df)\n"
      ],
      "metadata": {
        "colab": {
          "base_uri": "https://localhost:8080/"
        },
        "id": "yAharTw0OAoX",
        "outputId": "36f0263f-7dbb-40fb-caa6-33c684c22855"
      },
      "execution_count": 6,
      "outputs": [
        {
          "output_type": "stream",
          "name": "stdout",
          "text": [
            "주식 티커를 입력하세요: 005930.KS\n",
            "                                   Open          High           Low  \\\n",
            "Date                                                                  \n",
            "2024-04-23 00:00:00+09:00  76060.753642  76458.977483  75164.750000   \n",
            "2024-04-24 00:00:00+09:00  77155.868818  78450.096295  76857.200938   \n",
            "2024-04-25 00:00:00+09:00  76956.762799  77155.874734  75961.203125   \n",
            "2024-04-26 00:00:00+09:00  77454.537443  77554.093404  76160.309954   \n",
            "2024-04-29 00:00:00+09:00  77056.313600  77255.425522  75861.642071   \n",
            "...                                 ...           ...           ...   \n",
            "2024-10-16 00:00:00+09:00  59400.000000  60000.000000  59200.000000   \n",
            "2024-10-17 00:00:00+09:00  59400.000000  60100.000000  59100.000000   \n",
            "2024-10-18 00:00:00+09:00  59900.000000  60100.000000  59100.000000   \n",
            "2024-10-21 00:00:00+09:00  59000.000000  59600.000000  58500.000000   \n",
            "2024-10-23 00:00:00+09:00  57500.000000  60000.000000  57100.000000   \n",
            "\n",
            "                                  Close    Volume  Price_Change        Weight  \\\n",
            "Date                                                                            \n",
            "2024-04-23 00:00:00+09:00  75164.750000  18717699      1.721854  1.087066e+07   \n",
            "2024-04-24 00:00:00+09:00  78250.984375  22166150      2.035623  1.088912e+07   \n",
            "2024-04-25 00:00:00+09:00  75961.203125  15549134      1.572739  9.886658e+06   \n",
            "2024-04-26 00:00:00+09:00  76359.421875  12755629      1.825293  6.988262e+06   \n",
            "2024-04-29 00:00:00+09:00  76359.421875  14664474      1.825293  8.034037e+06   \n",
            "...                                 ...       ...           ...           ...   \n",
            "2024-10-16 00:00:00+09:00  59500.000000  23303268      1.344538  1.733181e+07   \n",
            "2024-10-17 00:00:00+09:00  59700.000000  23372873      1.675042  1.395361e+07   \n",
            "2024-10-18 00:00:00+09:00  59200.000000  14420260      1.689189  8.536794e+06   \n",
            "2024-10-21 00:00:00+09:00  59000.000000  18514905      1.864407  9.930722e+06   \n",
            "2024-10-23 00:00:00+09:00  59100.000000  27300780      4.906937  5.563711e+06   \n",
            "\n",
            "                           Volume_Change Demand Strength  \n",
            "Date                                                      \n",
            "2024-04-23 00:00:00+09:00            NaN  공급감소중       약세  \n",
            "2024-04-24 00:00:00+09:00      3448451.0  수요증가중       강세  \n",
            "2024-04-25 00:00:00+09:00     -6617016.0  공급감소중       약세  \n",
            "2024-04-26 00:00:00+09:00     -2793505.0  공급감소중       약세  \n",
            "2024-04-29 00:00:00+09:00      1908845.0  공급증가중       약세  \n",
            "...                                  ...    ...      ...  \n",
            "2024-10-16 00:00:00+09:00       588029.0  수요증가중       강세  \n",
            "2024-10-17 00:00:00+09:00        69605.0  수요증가중       강세  \n",
            "2024-10-18 00:00:00+09:00     -8952613.0  공급감소중       약세  \n",
            "2024-10-21 00:00:00+09:00      4094645.0  공급감소중       약세  \n",
            "2024-10-23 00:00:00+09:00      8785875.0  수요증가중       강세  \n",
            "\n",
            "[120 rows x 10 columns]\n"
          ]
        }
      ]
    },
    {
      "cell_type": "code",
      "source": [
        "# 시간대 제거 (timezone-aware datetime을 timezone-unaware로 변환)\n",
        "df.index = df.index.tz_localize(None)\n",
        "\n",
        "# 엑셀로 저장하기\n",
        "if not df.empty:\n",
        "    file_name = f\"{ticker}_stock_data.xlsx\"  # 파일 이름 지정\n",
        "    df.to_excel(file_name)  # 엑셀 파일로 저장\n",
        "    print(f\"데이터가 '{file_name}' 파일로 저장되었습니다.\")\n",
        "else:\n",
        "    print(\"엑셀 파일을 저장할 데이터가 없습니다.\")"
      ],
      "metadata": {
        "colab": {
          "base_uri": "https://localhost:8080/"
        },
        "id": "D7X7R0MzQIE5",
        "outputId": "57ec87be-77d8-47f4-cfad-e6c0ea8d579d"
      },
      "execution_count": 8,
      "outputs": [
        {
          "output_type": "stream",
          "name": "stdout",
          "text": [
            "데이터가 '005930.KS_stock_data.xlsx' 파일로 저장되었습니다.\n"
          ]
        }
      ]
    }
  ]
}